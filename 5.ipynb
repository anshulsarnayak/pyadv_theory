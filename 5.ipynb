{
 "cells": [
  {
   "cell_type": "markdown",
   "metadata": {},
   "source": [
    "Q1. What is the meaning of multiple inheritance?\n",
    ": Multiple inheritance is a feature in which an object or class can inherit characteristics and features from more than one parent object or parent class. \n",
    "\n",
    "Q2. What is the concept of delegation?\n",
    ": Delegation is an object oriented technique (also called a design pattern). Let's say we have an object x and want to change the behaviour of just one of its methods.\n",
    "\n",
    "Q3. What is the concept of composition?\n",
    ":Whenever we create an object of Composite Class, the object of the Component class is automatically created. Now in m2() method of Composite class we are calling m1() method of Component Class using instance variable obj1 in which reference of Component Class is stored.\n",
    "\n",
    "Q4. What are bound methods and how do we use them?\n",
    ":A bound method is the one which is dependent on the instance of the class as the first argument. It passes the instance as the first argument which is used to access the variables and functions.\n",
    "\n",
    "Q5. What is the purpose of pseudoprivate attributes?\n",
    ": By adding class keyword with dot and two __ with attributes."
   ]
  }
 ],
 "metadata": {
  "kernelspec": {
   "display_name": "Python 3",
   "language": "python",
   "name": "python3"
  },
  "language_info": {
   "codemirror_mode": {
    "name": "ipython",
    "version": 3
   },
   "file_extension": ".py",
   "mimetype": "text/x-python",
   "name": "python",
   "nbconvert_exporter": "python",
   "pygments_lexer": "ipython3",
   "version": "3.8.0"
  }
 },
 "nbformat": 4,
 "nbformat_minor": 4
}
