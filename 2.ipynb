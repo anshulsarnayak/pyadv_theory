{
 "cells": [
  {
   "cell_type": "markdown",
   "metadata": {},
   "source": [
    "Q1. What is the relationship between classes and modules?\n",
    ": Modules are collections of methods and constants. They cannot generate instances. Classes may generate instances (objects), and have per-instance state (instance variables).\n",
    "\n",
    "Q2. How do you make instances and classes?\n",
    ": with the help of __init__() we make instances and with help of class keyword we make class.\n",
    "\n",
    "Q3. Where and how should be class attributes created?\n",
    ": Class attributes belong to the class itself they will be shared by all the instances. Such attributes are defined in the class body parts usually at the top, for legibility. Unlike class attributes, instance attributes are not shared by objects.s\n",
    "\n",
    "Q4. Where and how are instance attributes created?\n",
    ":An instance attribute is a Python variable belonging to one, and only one, object. This variable is only accessible in the scope of this object and it is defined inside the constructor function, __init__(self,..) of the class.\n",
    "\n",
    "Q5. What does the term \"self\" in a Python class mean?\n",
    ":self represents the instance of the class. By using the “self” as pointer we can access the attributes and methods of the class in python. It binds the attributes with the given arguments.\n",
    "\n",
    "Q6. How does a Python class handle operator overloading?\n",
    ":Operator Overloading means giving extended meaning beyond their predefined operational meaning. For example operator + is used to add two integers as well as join two strings and merge two lists. It is achievable because '+' operator is overloaded by int class and str class.\n",
    "\n",
    "Q7. When do you consider allowing operator overloading of your classes?\n",
    ": When we have two objects which are a physical representation of a class (user-defined data type) and we have to add two objects with binary '+' operator it throws an error, because compiler don't know how to add two objects. So we define a method for an operator and that process is called operator overloading.\n",
    "\n",
    "Q8. What is the most popular form of operator overloading?\n",
    ":  the Addition (+) operator.\n",
    "\n",
    "Q9. What are the two most important concepts to grasp in order to comprehend Python OOP code?\n",
    ": Inheritance and Polymorphism"
   ]
  }
 ],
 "metadata": {
  "kernelspec": {
   "display_name": "Python 3",
   "language": "python",
   "name": "python3"
  },
  "language_info": {
   "codemirror_mode": {
    "name": "ipython",
    "version": 3
   },
   "file_extension": ".py",
   "mimetype": "text/x-python",
   "name": "python",
   "nbconvert_exporter": "python",
   "pygments_lexer": "ipython3",
   "version": "3.8.0"
  }
 },
 "nbformat": 4,
 "nbformat_minor": 4
}
