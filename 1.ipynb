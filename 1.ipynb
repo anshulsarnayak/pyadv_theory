{
 "cells": [
  {
   "cell_type": "markdown",
   "metadata": {},
   "source": [
    "Q1. What is the purpose of Python's OOP?\n",
    ":The purpose of OOP is to make code 'reuseable' and make code clearer and structurer .\n",
    "\n",
    "Q2. Where does an inheritance search look for an attribute?\n",
    ":Python searches the namespace tree at and above object , for the first attr it can find. \n",
    "\n",
    "Q3. How do you distinguish between a class object and an instance object?\n",
    ":Instance refers to the copy of the object at a particular time whereas object refers to the memory address of the class.\n",
    "\n",
    "Q4. What makes the first argument in a class’s method function special?\n",
    ":When a def appears inside a class, it is usually known as a method. It automatically receives a special first argument, self(for __init__(), and can use any other word than self)that provides a handle back to the instance to be processed. \n",
    "\n",
    "Q5. What is the purpose of the __init__ method?\n",
    ":It is used to make variable at an instance.(initialize the objects state)\n",
    "\n",
    "Q6. What is the process for creating a class instance?\n",
    ":Call ClassName() to create a new instance of the class ClassName . To pass parameters to the class instance, the class must have an __init__() method. Pass the parameters in the constructor of the class.\n",
    "\n",
    "Q7. What is the process for creating a class?\n",
    ": We have to write class keyword  infront class name and after that the class gets created after writing some code in it even    with pass keyword. \n",
    "\n",
    "Q8. How would you define the superclasses of a class?\n",
    ": Superclasses of class are defined inside the brackets of classname of their child classes.\n",
    "e.g,\n",
    "class parent():\n",
    "    pass\n",
    "class child(parent):\n",
    "    pass"
   ]
  }
 ],
 "metadata": {
  "kernelspec": {
   "display_name": "Python 3",
   "language": "python",
   "name": "python3"
  },
  "language_info": {
   "codemirror_mode": {
    "name": "ipython",
    "version": 3
   },
   "file_extension": ".py",
   "mimetype": "text/x-python",
   "name": "python",
   "nbconvert_exporter": "python",
   "pygments_lexer": "ipython3",
   "version": "3.8.0"
  }
 },
 "nbformat": 4,
 "nbformat_minor": 4
}
