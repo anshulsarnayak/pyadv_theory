{
 "cells": [
  {
   "cell_type": "markdown",
   "metadata": {},
   "source": [
    "Q1. Which two operator overloading methods can you use in your classes to support iteration?\n",
    ": Addition overloading , Substraction overloading .\n",
    "\n",
    "Q2. In what contexts do the two operator overloading methods manage printing?\n",
    ": You can change the meaning of an operator in Python depending upon the ... define a __str__() method in our class that controls how the object gets printed.\n",
    "\n",
    "Q3. In a class, how do you intercept slice operations?\n",
    ":  we can break() from it .\n",
    "\n",
    "Q4. In a class, how do you capture in-place addition?\n",
    ": with the help of iadd() function. \n",
    "\n",
    "Q5. When is it appropriate to use operator overloading?\n",
    ": When one wants to change magic method.e.g, for '+' changing __add()__ method."
   ]
  }
 ],
 "metadata": {
  "kernelspec": {
   "display_name": "Python 3",
   "language": "python",
   "name": "python3"
  },
  "language_info": {
   "codemirror_mode": {
    "name": "ipython",
    "version": 3
   },
   "file_extension": ".py",
   "mimetype": "text/x-python",
   "name": "python",
   "nbconvert_exporter": "python",
   "pygments_lexer": "ipython3",
   "version": "3.8.0"
  }
 },
 "nbformat": 4,
 "nbformat_minor": 4
}
