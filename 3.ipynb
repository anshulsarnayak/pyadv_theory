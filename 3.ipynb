{
 "cells": [
  {
   "cell_type": "markdown",
   "metadata": {},
   "source": [
    "1. What is the concept of an abstract superclass?\n",
    ": An abstract class can be considered as a blueprint for other classes. It allows you to create a set of methods that must be created within any child classes built from the abstract class.\n",
    "\n",
    "2. What happens when a class statement's top level contains a basic assignment statement?\n",
    ": Then the class get called the class avriables get's instanciated with init method's assignment statement.\n",
    "\n",
    "3. Why does a class need to manually call a superclass's __init__ method?\n",
    ": If your subclass doesn’t have an `__init__` method then the superclass `__init__` methods are called automatically.\n",
    "If your subclass has an `__init__` method the main reason why the superclass `__init__` isn’t automatically called is that it may not be the right thing to do.\n",
    "\n",
    "4. How can you augment, instead of completely replacing, an inherited method ?\n",
    ":  Subclass can either completely override the implementation for an inherited method or the subclass can enhance the method by adding functionality to it.\n",
    "\n",
    "5. How is the local scope of a class different from that of a function?\n",
    ": local scope of class can be used for all the functions in it while local scope of function remain only for that function."
   ]
  }
 ],
 "metadata": {
  "kernelspec": {
   "display_name": "Python 3",
   "language": "python",
   "name": "python3"
  },
  "language_info": {
   "codemirror_mode": {
    "name": "ipython",
    "version": 3
   },
   "file_extension": ".py",
   "mimetype": "text/x-python",
   "name": "python",
   "nbconvert_exporter": "python",
   "pygments_lexer": "ipython3",
   "version": "3.8.0"
  }
 },
 "nbformat": 4,
 "nbformat_minor": 4
}
